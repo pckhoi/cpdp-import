{
 "metadata": {
  "language_info": {
   "codemirror_mode": {
    "name": "ipython",
    "version": 3
   },
   "file_extension": ".py",
   "mimetype": "text/x-python",
   "name": "python",
   "nbconvert_exporter": "python",
   "pygments_lexer": "ipython3",
   "version": "3.8.3"
  },
  "orig_nbformat": 2,
  "kernelspec": {
   "name": "python383jvsc74a57bd0759d03fc00c4e55187619d7bc1e0b6a3309d14c7c00d43a321634150e05678f8",
   "display_name": "Python 3.8.3 64-bit ('base': conda)"
  }
 },
 "nbformat": 4,
 "nbformat_minor": 2,
 "cells": [
  {
   "cell_type": "code",
   "execution_count": 32,
   "metadata": {},
   "outputs": [],
   "source": [
    "import pandas as pd\n",
    "import os\n",
    "from io import StringIO\n",
    "import sys; sys.path.append('../')\n",
    "\n",
    "from lib.data import download, extract_zip\n",
    "from lib.clean import (\n",
    "    clean_column_names, clean_table, clean_beat, clean_category, float_to_int_str, clean_dates, clean_times,\n",
    "    clean_races, clean_genders, float_to_int_str, clean_investigators, clean_finding\n",
    ")"
   ]
  },
  {
   "cell_type": "code",
   "execution_count": 33,
   "metadata": {},
   "outputs": [],
   "source": [
    "cr_zip_path = download('https://www.dropbox.com/s/392b045qtlsm9l9/2021-04-28_CR%20data%20to%20import.zip?dl=1')\n",
    "cr_dir_path = extract_zip(cr_zip_path)\n",
    "crids = ['20200001982', '20200003586', '1089903', '1092579']\n",
    "officer_id_dict = {\n",
    "    'encarnacion': '7939',\n",
    "    'solano': '26969',\n",
    "    'miles': '19051',\n",
    "    'bedalow': '1652',  \n",
    "    'astorga': '918',\n",
    "    'khan': '14552'\n",
    "}"
   ]
  },
  {
   "cell_type": "code",
   "execution_count": 34,
   "metadata": {},
   "outputs": [
    {
     "output_type": "stream",
     "name": "stderr",
     "text": [
      "/Users/khoipham/opt/anaconda3/lib/python3.8/site-packages/IPython/core/interactiveshell.py:3071: DtypeWarning: Columns (15) have mixed types.Specify dtype option on import or set low_memory=False.\n",
      "  has_raised = await self.run_ast_nodes(code_ast.body, cell_name,\n",
      "INSERT INTO data_officerallegation (id, allegation_id, officer_id, final_finding, allegation_category_id, recc_finding, recc_outcome, final_outcome, final_outcome_class, created_at, updated_at) VALUES ((select max(id) + 1 from data_officerallegation), '20200001982', 26969, '', 75, '', '', '', '', current_timestamp, current_timestamp);\n",
      "INSERT INTO data_officerallegation (id, allegation_id, officer_id, final_finding, allegation_category_id, recc_finding, recc_outcome, final_outcome, final_outcome_class, created_at, updated_at) VALUES ((select max(id) + 1 from data_officerallegation), '20200001982', 7939, '', 75, '', '', '', '', current_timestamp, current_timestamp);\n",
      "INSERT INTO data_officerallegation (id, allegation_id, officer_id, final_finding, allegation_category_id, recc_finding, recc_outcome, final_outcome, final_outcome_class, created_at, updated_at) VALUES ((select max(id) + 1 from data_officerallegation), '20200003586', 26969, '', 81, '', '', '', '', current_timestamp, current_timestamp);\n",
      "INSERT INTO data_officerallegation (id, allegation_id, officer_id, final_finding, allegation_category_id, recc_finding, recc_outcome, final_outcome, final_outcome_class, created_at, updated_at) VALUES ((select max(id) + 1 from data_officerallegation), '20200003586', 7939, '', 81, '', '', '', '', current_timestamp, current_timestamp);\n",
      "INSERT INTO data_officerallegation (id, allegation_id, officer_id, final_finding, allegation_category_id, recc_finding, recc_outcome, final_outcome, final_outcome_class, created_at, updated_at) VALUES ((select max(id) + 1 from data_officerallegation), '1089903', 26969, 'NA', 208, '', '', '', '', current_timestamp, current_timestamp);\n",
      "INSERT INTO data_officerallegation (id, allegation_id, officer_id, final_finding, allegation_category_id, recc_finding, recc_outcome, final_outcome, final_outcome_class, created_at, updated_at) VALUES ((select max(id) + 1 from data_officerallegation), '1089903', 26969, 'NA', 208, '', '', '', '', current_timestamp, current_timestamp);\n",
      "INSERT INTO data_officerallegation (id, allegation_id, officer_id, final_finding, allegation_category_id, recc_finding, recc_outcome, final_outcome, final_outcome_class, created_at, updated_at) VALUES ((select max(id) + 1 from data_officerallegation), '1092579', 7939, 'SU', 417, '', '', '', '', current_timestamp, current_timestamp);\n",
      "INSERT INTO data_officerallegation (id, allegation_id, officer_id, final_finding, allegation_category_id, recc_finding, recc_outcome, final_outcome, final_outcome_class, created_at, updated_at) VALUES ((select max(id) + 1 from data_officerallegation), '1092579', 7939, 'SU', 417, '', '', '', '', current_timestamp, current_timestamp);\n",
      "INSERT INTO data_officerallegation (id, allegation_id, officer_id, final_finding, allegation_category_id, recc_finding, recc_outcome, final_outcome, final_outcome_class, created_at, updated_at) VALUES ((select max(id) + 1 from data_officerallegation), '1092579', 7939, 'SU', 289, '', '', '', '', current_timestamp, current_timestamp);\n",
      "INSERT INTO data_officerallegation (id, allegation_id, officer_id, final_finding, allegation_category_id, recc_finding, recc_outcome, final_outcome, final_outcome_class, created_at, updated_at) VALUES ((select max(id) + 1 from data_officerallegation), '1092579', 7939, 'SU', 289, '', '', '', '', current_timestamp, current_timestamp);\n",
      "INSERT INTO data_officerallegation (id, allegation_id, officer_id, final_finding, allegation_category_id, recc_finding, recc_outcome, final_outcome, final_outcome_class, created_at, updated_at) VALUES ((select max(id) + 1 from data_officerallegation), '1092579', 14552, 'EX', 417, '', '', '', '', current_timestamp, current_timestamp);\n"
     ]
    }
   ],
   "source": [
    "cms_accused = pd.read_csv(os.path.join(cr_dir_path, '2021-04-28_CR data to import/CMS Spreadsheets - 2.03.2021/cms_accused.csv'))\n",
    "cms_accused.columns\n",
    "clear_accused = pd.read_csv(\n",
    "    os.path.join(cr_dir_path, '2021-04-28_CR data to import/CLEAR Spreadsheets - 2.03.2021/clear_accused.csv'),\n",
    "    encoding='latin-1'\n",
    ").rename(columns={\n",
    "    'ALLEGATION_CATEGORY_CD': 'ALLEGATION_CATEGORY_CODE',\n",
    "    'FINDING_CD': 'FINAL_FINDING',\n",
    "    'PENALTY_CD': 'FINAL_PENALTY',\n",
    "})\n",
    "accused = clean_table(pd.concat([cms_accused, clear_accused]))\n",
    "accused = accused[accused.crid.isin(crids)]\\\n",
    "    .dropna(axis=1, how='all')\\\n",
    "    .drop(columns=[\n",
    "        'middle_initial', 'first_name', 'race', 'gender', 'star_no', 'appointed_date', 'birth_year', 'unit_assigned_at_complaint',\n",
    "        'current_unit_assigned', 'position_at_complaint', 'current_position', 'accused_on_duty', 'accused_arrested', 'allegation_category',\n",
    "        'employee_on_duty', 'injury_condition', 'accusation_id', 'allegation_category_desc', 'no_of_days', 'final_penalty'\n",
    "    ]).rename(columns={\n",
    "        'last_name': 'officer_id',\n",
    "    })\\\n",
    "    .pipe(clean_category)\\\n",
    "    .pipe(clean_finding)\n",
    "accused = accused[accused.officer_id.notna()].reset_index(drop=True)\n",
    "accused.loc[:, 'officer_id'] = accused.officer_id.str.lower().map(lambda x: officer_id_dict[x])\n",
    "accused\n",
    "\n",
    "oa_stmts = [\n",
    "    (\n",
    "        \"INSERT INTO data_officerallegation (\"\n",
    "        \"id, allegation_id, officer_id, final_finding, allegation_category_id, recc_finding, recc_outcome, \"\n",
    "        \"final_outcome, final_outcome_class, created_at, updated_at) \"\n",
    "        \"VALUES ((select max(id) + 1 from data_officerallegation), '%s', %s, '%s', %s, '', '', '', '', current_timestamp, current_timestamp);\"\n",
    "    ) % (\n",
    "        row.crid, row.officer_id, row.final_finding, row.category_id\n",
    "    ) for _, row in accused.iterrows()\n",
    "]\n",
    "print('\\n'.join(oa_stmts))"
   ]
  },
  {
   "cell_type": "code",
   "execution_count": 35,
   "metadata": {},
   "outputs": [
    {
     "output_type": "stream",
     "name": "stderr",
     "text": [
      "/Users/khoipham/opt/anaconda3/lib/python3.8/site-packages/IPython/core/interactiveshell.py:3071: DtypeWarning: Columns (7,16,17,19,20,21,22,23,24) have mixed types.Specify dtype option on import or set low_memory=False.\n",
      "  has_raised = await self.run_ast_nodes(code_ast.body, cell_name,\n",
      "INSERT INTO data_allegation (crid, incident_date, beat_id, location, most_common_category_id, is_officer_complaint, summary, add1, add2, city, source, subjects, created_at, updated_at, is_extracted_summary) VALUES ('20200001982', null, 11, '', 75, 'F', 'CPD initiation report: The reporting subject alleges the accused officers searched his vehicle without justification and made fun of and antagonized him after accused stopped him for being illegally parked. The complainant got a ticket for being double parked and non-standing parking. ', '', '', 'CHICAGO ILLINOIS', '', '{}', current_timestamp, current_timestamp, 'F') ON CONFLICT DO NOTHING;\n",
      "INSERT INTO data_allegation (crid, incident_date, beat_id, location, most_common_category_id, is_officer_complaint, summary, add1, add2, city, source, subjects, created_at, updated_at, is_extracted_summary) VALUES ('20200003586', null, 46, '', 81, 'F', 'Civilian web complaint: I am filing a complaint against 16th CPD peace officers Evan Solano, Sammy Encarnacion and their three peace officers for harrassment, unlawful arrest and false imprisonment. I arrived at the Jefferson Park Branch Library Adult Computer Room at approximately 10:15 AM. I intended to use a computer for personal and professional purposes. When I entered the double door or front door of the library, the manager told me to put my mask on and sanitize. I said, \"I have my mask on.\" I went directly to the Adult Computer Room to use a computer right across a computer for people with disabilities, in which I preferably not to disclose, but part of the group. While I am using a computer assigned to me, 16th District peace officers Solano and Encarnacion arrived at the scene and telling me to leave the building or they will charge me with criminal trespassing. The Jefferson Park Branch Library is a Chicago Public Library and is open between 10:00 AM and 5:00 PM on Wednesday on August 5, 2020. When I told them, \"I am not leaving. I did not violate any rules and regulations. I did not violate the municipal code of the City of Chicago. I did not violate any Illinois Criminal Statutes. I did not violate any Federal laws here in the United States.\" A male Caucasian peace officer with a rank of Sergeant, arrived at the scene and tried to intervene between the exchange of statements about the rules of law that they are trying to enforce. I asked them, \"What laws are you trying to enforce?\" I kept saying, \"I did not do anything. I am not going anywhere.\" And suddenly, these officers started accusing me of disorderly conduct - disturbance, while we were inside the library. I said to them, \"This is the way I talk and I am not going to change it.\" (These peace officers have no idea that I have hearing problem, which is medically documented by the United States Veterans Affairs.) This is the reason why i prefer my disability to be confidential and not to disclose it. By the way, this entire conversation is video and audio recorded by me and bodycams by them. Suddenly, peace officer Piccolo circled around me and began grabbing my green bag without asking any permission at all. She said, \"I am trying to put your wallet inside your bag.\" For me, she had an intention to provoke me and make an arrest, and see what would ne my response. I said, \"Don''t touch my bag,\" while she was behind me. I decided to turn around to record a video of her actions. She finally grabbed my hands; and they arrested me. They even tried to accuse me of resisting arrest. Like I said to them, \"I am taking a video and not physically provoking them.\" Prior to the arrest, they allowed the manager to speak why they want me to leave, she said, \"I am creating disturbance.\" I said, \"What violation did I do?\" I kept asking the same question, while I am recording the entire conversation. They also asked a gentleman seating next to an old man right across me. He said, \"I am speaking loud after the peace officers arrived,\" and not before they arrived. He also had a smartphone. I did not know if the gentleman was recording the entire conversation. While he was speaking to us, I also recorded the conversation. That''s when the peace officers accused me for disturbance while the old man seating next to him, who is right across me, did not say a word or anything at all about me being a trespasser and making disturbance. After they arrested me, one of the officers put me into one of the squad cars. As I waited for them, peace officers Solano and Encarnacion began searching my greenbag if I had any weapons. And they found nothing. Ofc. Solano opened a small pocket on the front side of my green bag and found my Chicago Public Schools Employee identification card, I-PASS transponder, etc. Also, peace officers Solano and Encarnacion showed my CPS Employee ID to Ofc. Piccolo. Ofc. Piccolo went inside the car; suddenly, she asked me if I worked for CPS. I replied, \"I used to work part-time for CPS.\" Was it in a School?: No Was it in a Police Facility?: No', '', '', 'CHICAGO ILLINOIS', '', '{}', current_timestamp, current_timestamp, 'F') ON CONFLICT DO NOTHING;\n",
      "INSERT INTO data_allegation (crid, incident_date, beat_id, location, most_common_category_id, is_officer_complaint, summary, add1, add2, city, source, subjects, created_at, updated_at, is_extracted_summary) VALUES ('1089903', null, null, 'Street', 204, 'F', '', '', '', 'CHICAGO ILLINOIS', '', '{}', current_timestamp, current_timestamp, 'F') ON CONFLICT DO NOTHING;\n",
      "INSERT INTO data_allegation (crid, incident_date, beat_id, location, most_common_category_id, is_officer_complaint, summary, add1, add2, city, source, subjects, created_at, updated_at, is_extracted_summary) VALUES ('1092579', null, 44, 'Sidewalk', 99, 'T', '', '', '', 'CHICAGO ILLINOIS', '', '{}', current_timestamp, current_timestamp, 'F') ON CONFLICT DO NOTHING;\n"
     ]
    }
   ],
   "source": [
    "case_info = clean_table(pd.concat([\n",
    "    pd.read_csv(os.path.join(cr_dir_path, '2021-04-28_CR data to import/CMS Spreadsheets - 2.03.2021/cms_case_info.csv')),\n",
    "    pd.read_csv(\n",
    "        os.path.join(cr_dir_path, '2021-04-28_CR data to import/CLEAR Spreadsheets - 2.03.2021/clear_case_info.csv'),\n",
    "        encoding='latin-1'\n",
    "    ).rename(columns={\n",
    "        'CATEGORY_CODE': 'ALLEGATION_CATEGORY_CODE'\n",
    "    }),\n",
    "]))\n",
    "case_info = case_info[case_info.crid.isin(crids)]\\\n",
    "    .dropna(axis=1, how='all')\\\n",
    "    .drop(columns=[\n",
    "        'complaint_date', 'allegation_category', 'case_type', 'biased_language_i', 'pursuit_related_i',\n",
    "        'domestic_violence_i', 'police_shooting', 'investigating_agency', 'current_status', 'days_to_closure',\n",
    "        'category', 'bias_based_pro_i','alcohol_related_i','violence_at_work_i', 'closed_date'\n",
    "    ]).rename(columns={\n",
    "        'narrative': 'summary'\n",
    "    })\\\n",
    "    .pipe(float_to_int_str, ['beat_of_incident'])\\\n",
    "    .pipe(clean_beat)\\\n",
    "    .pipe(clean_category)\\\n",
    "    .pipe(clean_dates, ['incident_date'])\\\n",
    "    .pipe(clean_times, ['incident_time'])\n",
    "case_info.loc[:, 'incident_date'] = case_info.incident_date.str.cat(case_info.incident_time, sep=' ')\n",
    "case_info.loc[case_info.complainant_type.str.lower() == 'civilian', 'is_officer_complaint'] = 'F'\n",
    "case_info.loc[case_info.complainant_type.str.lower() == 'cpd employee', 'is_officer_complaint'] = 'T'\n",
    "case_info.loc[:, 'location_code'] = case_info.location_code.fillna('').str.title()\n",
    "case_info.loc[:, 'summary'] = case_info.summary.fillna('')\n",
    "case_info = case_info.drop(columns=[\n",
    "    'incident_time', 'state', 'beat_of_incident', 'allegation_category_code'\n",
    "])\n",
    "case_info\n",
    "\n",
    "allegation_stmts = [\n",
    "    (\n",
    "        \"INSERT INTO data_allegation (\"\n",
    "        \"crid, incident_date, beat_id, location, most_common_category_id, is_officer_complaint, \"\n",
    "        \"summary, add1, add2, city, source, subjects, created_at, updated_at, is_extracted_summary) \"\n",
    "        \"VALUES ('%s', %s, %s, '%s', %s, '%s', '%s', '', '', 'CHICAGO ILLINOIS', '', '{}', current_timestamp, current_timestamp, 'F') \"\n",
    "        \"ON CONFLICT DO NOTHING;\"\n",
    "    ) % (\n",
    "        row.crid,\n",
    "        'null' if pd.isnull(row.incident_date) else \"'%s'\" % row.incident_date,\n",
    "        'null' if row.beat_id == '' else row.beat_id, row.location_code, row.category_id, row.is_officer_complaint, row.summary.replace(\"'\", \"''\")\n",
    "    )\n",
    "    for _, row in case_info.drop_duplicates().iterrows()\n",
    "]\n",
    "print('\\n'.join(allegation_stmts))"
   ]
  },
  {
   "cell_type": "code",
   "execution_count": 36,
   "metadata": {},
   "outputs": [
    {
     "output_type": "stream",
     "name": "stdout",
     "text": [
      "INSERT INTO data_complainant (id, gender, race, age, birth_year, created_at, updated_at, allegation_id) VALUES ((select max(id) + 1 from data_complainant), 'M', 'Black', null, 1997, current_timestamp, current_timestamp, '20200001982');\n",
      "INSERT INTO data_complainant (id, gender, race, age, birth_year, created_at, updated_at, allegation_id) VALUES ((select max(id) + 1 from data_complainant), 'M', 'White', null, 1978, current_timestamp, current_timestamp, '20200001982');\n",
      "INSERT INTO data_complainant (id, gender, race, age, birth_year, created_at, updated_at, allegation_id) VALUES ((select max(id) + 1 from data_complainant), 'M', 'Asian/Pacific Islander', null, 1987, current_timestamp, current_timestamp, '20200003586');\n",
      "INSERT INTO data_complainant (id, gender, race, age, birth_year, created_at, updated_at, allegation_id) VALUES ((select max(id) + 1 from data_complainant), '', '', null, 1966, current_timestamp, current_timestamp, '1089903');\n",
      "INSERT INTO data_complainant (id, gender, race, age, birth_year, created_at, updated_at, allegation_id) VALUES ((select max(id) + 1 from data_complainant), 'M', 'Hispanic', null, 1973, current_timestamp, current_timestamp, '1092579');\n",
      "INSERT INTO data_complainant (id, gender, race, age, birth_year, created_at, updated_at, allegation_id) VALUES ((select max(id) + 1 from data_complainant), 'F', 'White', null, null, current_timestamp, current_timestamp, '1092579');\n",
      "../lib/clean.py:155: FutureWarning: The default value of regex will change from True to False in a future version.\n",
      "  df.loc[:, col] = df[col].str.lower().fillna('').str.replace(r'^black.*', 'Black', regex=True)\\\n"
     ]
    }
   ],
   "source": [
    "complainant = clean_table(pd.concat([\n",
    "    pd.read_csv(os.path.join(cr_dir_path, '2021-04-28_CR data to import/CMS Spreadsheets - 2.03.2021/cms_complainant.csv')),\n",
    "    pd.read_csv(\n",
    "        os.path.join(cr_dir_path, '2021-04-28_CR data to import/CLEAR Spreadsheets - 2.03.2021/clear_complainant.csv'),\n",
    "        encoding='latin-1'\n",
    "    )\n",
    "]))\n",
    "complainant = complainant[complainant.crid.isin(crids)]\\\n",
    "    .dropna(axis=1, how='all')\\\n",
    "    .pipe(clean_races, ['race'])\\\n",
    "    .pipe(clean_genders, ['gender'])\\\n",
    "    .pipe(float_to_int_str, ['birth_year'])\n",
    "complainant\n",
    "com_stmts = [\n",
    "    (\n",
    "        \"INSERT INTO data_complainant (id, gender, race, age, birth_year, created_at, updated_at, allegation_id) \"\n",
    "        \"VALUES ((select max(id) + 1 from data_complainant), '%s', '%s', null, %s, current_timestamp, current_timestamp, '%s');\"\n",
    "    ) % (row.gender, row.race, row.birth_year if row.birth_year != '' else 'null', row.crid)\n",
    "    for _, row in complainant.iterrows()\n",
    "]\n",
    "print('\\n'.join(com_stmts))"
   ]
  },
  {
   "cell_type": "code",
   "execution_count": 37,
   "metadata": {},
   "outputs": [
    {
     "output_type": "stream",
     "name": "stdout",
     "text": [
      "INSERT INTO data_policewitness (id, officer_id, created_at, updated_at, allegation_id)VALUES ((select max(id) + 1 from data_policewitness), 14552, current_timestamp, current_timestamp, '1092579');\n"
     ]
    }
   ],
   "source": [
    "pwit_stmts = [\n",
    "    (\n",
    "        \"INSERT INTO data_policewitness (id, officer_id, created_at, updated_at, allegation_id)\"\n",
    "        \"VALUES ((select max(id) + 1 from data_policewitness), %s, current_timestamp, current_timestamp, '%s');\"\n",
    "    ) % (officer_id, crid) for crid, officer_id in [('1092579', '14552')]\n",
    "]\n",
    "print('\\n'.join(pwit_stmts))"
   ]
  },
  {
   "cell_type": "code",
   "execution_count": 38,
   "metadata": {},
   "outputs": [
    {
     "output_type": "stream",
     "name": "stderr",
     "text": [
      "../lib/clean.py:155: FutureWarning: The default value of regex will change from True to False in a future version.\n",
      "  df.loc[:, col] = df[col].str.lower().fillna('').str.replace(r'^black.*', 'Black', regex=True)\\\n",
      "INSERT INTO data_investigator (id, appointed_date, first_name, last_name, middle_initial, officer_id, suffix_name, gender, race, created_at, updated_at) VALUES (4788, '2019-09-16', 'Madilyn', 'Kohs', '', null, '', 'F', 'White', current_timestamp, current_timestamp);\n",
      "INSERT INTO data_investigator (id, appointed_date, first_name, last_name, middle_initial, officer_id, suffix_name, gender, race, created_at, updated_at) VALUES (4789, '2020-09-01', 'Valiza', 'Nash', '', null, '', 'F', 'Black', current_timestamp, current_timestamp);\n",
      "INSERT INTO data_investigatorallegation (id, current_star, current_rank, current_unit_id, investigator_id, investigator_type, created_at, updated_at, allegation_id) VALUES ((select max(id) + 1 from data_investigatorallegation), null, 'SUPERVISING INV COPA', null, 1450, 'Investigator', current_timestamp, current_timestamp, '20200001982');\n",
      "INSERT INTO data_investigatorallegation (id, current_star, current_rank, current_unit_id, investigator_id, investigator_type, created_at, updated_at, allegation_id) VALUES ((select max(id) + 1 from data_investigatorallegation), null, 'INVESTIGATOR III COPA', null, 4788, 'Investigator', current_timestamp, current_timestamp, '20200001982');\n",
      "INSERT INTO data_investigatorallegation (id, current_star, current_rank, current_unit_id, investigator_id, investigator_type, created_at, updated_at, allegation_id) VALUES ((select max(id) + 1 from data_investigatorallegation), null, 'INVESTIGATOR', null, 1421, 'Investigator', current_timestamp, current_timestamp, '20200001982');\n",
      "INSERT INTO data_investigatorallegation (id, current_star, current_rank, current_unit_id, investigator_id, investigator_type, created_at, updated_at, allegation_id) VALUES ((select max(id) + 1 from data_investigatorallegation), null, 'INVESTIGATOR 2 COPA', null, 1436, 'Investigator', current_timestamp, current_timestamp, '20200001982');\n",
      "INSERT INTO data_investigatorallegation (id, current_star, current_rank, current_unit_id, investigator_id, investigator_type, created_at, updated_at, allegation_id) VALUES ((select max(id) + 1 from data_investigatorallegation), null, 'SUPERVISING INVESTIGATOR COPA', null, 4789, 'Investigator', current_timestamp, current_timestamp, '20200001982');\n",
      "INSERT INTO data_investigatorallegation (id, current_star, current_rank, current_unit_id, investigator_id, investigator_type, created_at, updated_at, allegation_id) VALUES ((select max(id) + 1 from data_investigatorallegation), null, 'SUPERVISING INV COPA', null, 1450, 'Investigator', current_timestamp, current_timestamp, '20200003586');\n",
      "INSERT INTO data_investigatorallegation (id, current_star, current_rank, current_unit_id, investigator_id, investigator_type, created_at, updated_at, allegation_id) VALUES ((select max(id) + 1 from data_investigatorallegation), null, 'INVESTIGATOR I COPA', null, 1452, 'Investigator', current_timestamp, current_timestamp, '20200003586');\n",
      "INSERT INTO data_investigatorallegation (id, current_star, current_rank, current_unit_id, investigator_id, investigator_type, created_at, updated_at, allegation_id) VALUES ((select max(id) + 1 from data_investigatorallegation), '1552', 'SERGEANT OF POLICE', 12, 605, 'Investigator', current_timestamp, current_timestamp, '1089903');\n",
      "INSERT INTO data_investigatorallegation (id, current_star, current_rank, current_unit_id, investigator_id, investigator_type, created_at, updated_at, allegation_id) VALUES ((select max(id) + 1 from data_investigatorallegation), '275', null, 75, 1051, 'Supervising Investigator', current_timestamp, current_timestamp, '1089903');\n",
      "INSERT INTO data_investigatorallegation (id, current_star, current_rank, current_unit_id, investigator_id, investigator_type, created_at, updated_at, allegation_id) VALUES ((select max(id) + 1 from data_investigatorallegation), null, null, 71, 1418, 'Supervising Investigator', current_timestamp, current_timestamp, '1092579');\n",
      "INSERT INTO data_investigatorallegation (id, current_star, current_rank, current_unit_id, investigator_id, investigator_type, created_at, updated_at, allegation_id) VALUES ((select max(id) + 1 from data_investigatorallegation), null, null, 71, 1499, 'Investigator', current_timestamp, current_timestamp, '1092579');\n"
     ]
    }
   ],
   "source": [
    "cms_investigator = clean_investigators(pd.concat([\n",
    "    pd.read_csv(os.path.join(cr_dir_path, '2021-04-28_CR data to import/CMS Spreadsheets - 2.03.2021/cms_investigator.csv')),\n",
    "    pd.read_csv(\n",
    "        os.path.join(cr_dir_path, '2021-04-28_CR data to import/CLEAR Spreadsheets - 2.03.2021/clear_investigator.csv'),\n",
    "        encoding='latin-1'\n",
    "    ),\n",
    "]))\n",
    "cms_investigator = cms_investigator[cms_investigator.crid.isin(crids)]\\\n",
    "    .dropna(axis=1, how='all')\n",
    "investigator_dict = {\n",
    "    'Pfeifer': '1450',\n",
    "    'Coleman': '1421',\n",
    "    'Bowens': '1436',\n",
    "    'Mack': '1452',\n",
    "    'Kohs': '4788',\n",
    "    'Nash': '4789',\n",
    "    'Brown': '1297',\n",
    "    'Klichowski': '1363',\n",
    "    'Ward': '605',\n",
    "    'Denham': '1051',\n",
    "    'Tarver': '1418',\n",
    "    'Brett': '1499',\n",
    "}\n",
    "cms_investigator.loc[:, 'investigator_id'] = cms_investigator.last_name.map(lambda x: investigator_dict.get(x, ''))\n",
    "cms_investigator.loc[:, 'investigator_type'] = cms_investigator.investigator_type.fillna('investigator').str.title()\n",
    "cms_investigator = cms_investigator.drop(columns=['assign_datetime']).drop_duplicates()\n",
    "cms_investigator\n",
    "iv_stmts = [\n",
    "    (\n",
    "        'INSERT INTO data_investigator '\n",
    "        '(id, appointed_date, first_name, last_name, middle_initial, officer_id, suffix_name, gender, race, created_at, updated_at) '\n",
    "        \"VALUES (%s, '%s', '%s', '%s', '', null, '', '%s', '%s', current_timestamp, current_timestamp);\"\n",
    "    ) % (row.investigator_id, row.appointed_date, row.first_name, row.last_name, row.gender, row.race)\n",
    "    for _, row in cms_investigator.loc[cms_investigator.investigator_id.isin(['4788', '4789'])].iterrows()\n",
    "] + [\n",
    "    (\n",
    "        \"INSERT INTO data_investigatorallegation \"\n",
    "        \"(id, current_star, current_rank, current_unit_id, investigator_id, investigator_type, created_at, updated_at, allegation_id) \"\n",
    "        \"VALUES ((select max(id) + 1 from data_investigatorallegation), %s, %s, %s, %s, '%s', current_timestamp, current_timestamp, '%s');\"\n",
    "    ) % (\n",
    "        'null' if row.star_no == '' else \"'%s'\" % row.star_no,\n",
    "        'null' if pd.isnull(row.current_position) else \"'%s'\" % row.current_position,\n",
    "        'null' if row.unit_at_complaint == '' else row.unit_at_complaint,\n",
    "        row.investigator_id, row.investigator_type, row.crid)\n",
    "    for _, row in cms_investigator.drop(columns=['appointed_date']).drop_duplicates().iterrows()\n",
    "]\n",
    "print('\\n'.join(iv_stmts))"
   ]
  },
  {
   "cell_type": "code",
   "execution_count": 39,
   "metadata": {},
   "outputs": [
    {
     "output_type": "stream",
     "name": "stdout",
     "text": [
      "DELETE FROM data_officerhistory WHERE officer_id = 26969;\nDELETE FROM data_officerhistory WHERE officer_id = 7939;\nINSERT INTO data_officerhistory (id, effective_date, end_date, officer_id, unit_id, created_at, updated_at) VALUES ((SELECT max(id) + 1 FROM data_officerhistory), '2015-06-29', '2016-12-03', 26969, 30, current_timestamp, current_timestamp);\nINSERT INTO data_officerhistory (id, effective_date, end_date, officer_id, unit_id, created_at, updated_at) VALUES ((SELECT max(id) + 1 FROM data_officerhistory), '2016-12-04', null, 26969, 17, current_timestamp, current_timestamp);\nINSERT INTO data_officerhistory (id, effective_date, end_date, officer_id, unit_id, created_at, updated_at) VALUES ((SELECT max(id) + 1 FROM data_officerhistory), '2015-07-01', '2016-12-03', 7939, 30, current_timestamp, current_timestamp);\nINSERT INTO data_officerhistory (id, effective_date, end_date, officer_id, unit_id, created_at, updated_at) VALUES ((SELECT max(id) + 1 FROM data_officerhistory), '2016-12-04', null, 7939, 17, current_timestamp, current_timestamp);\n"
     ]
    }
   ],
   "source": [
    "unit_history = pd.read_csv(StringIO(\"\"\"FIRST_NME,MIDDLE_INITIAL,LAST_NME,APPOINTED_DATE,YOB,RACE_DESCR,SEX_CODE_CD,CPD_UNIT_ASSIGNED_NO,EFFECTIVE_DATE,END_DATE\n",
    "EVAN,G,SOLANO,29-Jun-15,1991,WHITE HISPANIC,M,044,29-Jun-15,3-Dec-16\n",
    "EVAN,G,SOLANO,29-Jun-15,1991,WHITE HISPANIC,M,016,4-Dec-16,\n",
    "SAMMY, ,ENCARNACION,29-Jun-15,1989,WHITE HISPANIC,M,044,1-Jul-15,3-Dec-16\n",
    "SAMMY, ,ENCARNACION,29-Jun-15,1989,WHITE HISPANIC,M,016,4-Dec-16,\"\"\"))\\\n",
    "    .pipe(clean_column_names)\n",
    "for col in ['effective_date', 'end_date']:\n",
    "    unit_history.loc[:, col] = pd.to_datetime(\n",
    "        unit_history[col].str.replace(r'-(\\d{2})$', r'-20\\1', regex=True),\n",
    "        format='%d-%b-%Y'\n",
    "    ).dt.strftime(\"%Y-%m-%d\").fillna(\"\")\n",
    "unit_history.loc[:, 'officer_id'] = unit_history.last_nme.str.lower().map(lambda x: officer_id_dict[x])\n",
    "unit_dict = {\n",
    "    '16': '17',\n",
    "    '44': '30'\n",
    "}\n",
    "unit_history.loc[:, 'unit_id'] = unit_history.cpd_unit_assigned_no.astype(str).map(lambda x: unit_dict[x])\n",
    "unit_history\n",
    "oh_stmts = [\n",
    "    \"DELETE FROM data_officerhistory WHERE officer_id = %d;\" % officer_id for officer_id in [26969, 7939]\n",
    "] + [\n",
    "    (\n",
    "        \"INSERT INTO data_officerhistory (id, effective_date, end_date, officer_id, unit_id, created_at, updated_at) \"\n",
    "        \"VALUES ((SELECT max(id) + 1 FROM data_officerhistory), %s, %s, %s, %s, current_timestamp, current_timestamp);\"\n",
    "    ) % (\n",
    "        'null' if r.effective_date == '' else \"'%s'\" % r.effective_date,\n",
    "        'null' if r.end_date == '' else \"'%s'\" % r.end_date,\n",
    "        r.officer_id, r.unit_id)\n",
    "    for _, r in unit_history.iterrows()\n",
    "]\n",
    "print('\\n'.join(oh_stmts))"
   ]
  },
  {
   "cell_type": "code",
   "execution_count": 40,
   "metadata": {},
   "outputs": [
    {
     "output_type": "stream",
     "name": "stdout",
     "text": [
      "BEGIN;\nINSERT INTO data_allegationcategory (id, category_code, category, allegation_name, on_duty, citizen_dept, created_at, updated_at) VALUES (417, 'S264', 'Illegal Search', 'Improper/Illegal Investigatory Stop', 'T', '', current_timestamp, current_timestamp);\nDELETE FROM data_officerhistory WHERE officer_id = 26969;\nDELETE FROM data_officerhistory WHERE officer_id = 7939;\nINSERT INTO data_officerhistory (id, effective_date, end_date, officer_id, unit_id, created_at, updated_at) VALUES ((SELECT max(id) + 1 FROM data_officerhistory), '2015-06-29', '2016-12-03', 26969, 30, current_timestamp, current_timestamp);\nINSERT INTO data_officerhistory (id, effective_date, end_date, officer_id, unit_id, created_at, updated_at) VALUES ((SELECT max(id) + 1 FROM data_officerhistory), '2016-12-04', null, 26969, 17, current_timestamp, current_timestamp);\nINSERT INTO data_officerhistory (id, effective_date, end_date, officer_id, unit_id, created_at, updated_at) VALUES ((SELECT max(id) + 1 FROM data_officerhistory), '2015-07-01', '2016-12-03', 7939, 30, current_timestamp, current_timestamp);\nINSERT INTO data_officerhistory (id, effective_date, end_date, officer_id, unit_id, created_at, updated_at) VALUES ((SELECT max(id) + 1 FROM data_officerhistory), '2016-12-04', null, 7939, 17, current_timestamp, current_timestamp);\nINSERT INTO data_allegation (crid, incident_date, beat_id, location, most_common_category_id, is_officer_complaint, summary, add1, add2, city, source, subjects, created_at, updated_at, is_extracted_summary) VALUES ('20200001982', null, 11, '', 75, 'F', 'CPD initiation report: The reporting subject alleges the accused officers searched his vehicle without justification and made fun of and antagonized him after accused stopped him for being illegally parked. The complainant got a ticket for being double parked and non-standing parking. ', '', '', 'CHICAGO ILLINOIS', '', '{}', current_timestamp, current_timestamp, 'F') ON CONFLICT DO NOTHING;\nINSERT INTO data_allegation (crid, incident_date, beat_id, location, most_common_category_id, is_officer_complaint, summary, add1, add2, city, source, subjects, created_at, updated_at, is_extracted_summary) VALUES ('20200003586', null, 46, '', 81, 'F', 'Civilian web complaint: I am filing a complaint against 16th CPD peace officers Evan Solano, Sammy Encarnacion and their three peace officers for harrassment, unlawful arrest and false imprisonment. I arrived at the Jefferson Park Branch Library Adult Computer Room at approximately 10:15 AM. I intended to use a computer for personal and professional purposes. When I entered the double door or front door of the library, the manager told me to put my mask on and sanitize. I said, \"I have my mask on.\" I went directly to the Adult Computer Room to use a computer right across a computer for people with disabilities, in which I preferably not to disclose, but part of the group. While I am using a computer assigned to me, 16th District peace officers Solano and Encarnacion arrived at the scene and telling me to leave the building or they will charge me with criminal trespassing. The Jefferson Park Branch Library is a Chicago Public Library and is open between 10:00 AM and 5:00 PM on Wednesday on August 5, 2020. When I told them, \"I am not leaving. I did not violate any rules and regulations. I did not violate the municipal code of the City of Chicago. I did not violate any Illinois Criminal Statutes. I did not violate any Federal laws here in the United States.\" A male Caucasian peace officer with a rank of Sergeant, arrived at the scene and tried to intervene between the exchange of statements about the rules of law that they are trying to enforce. I asked them, \"What laws are you trying to enforce?\" I kept saying, \"I did not do anything. I am not going anywhere.\" And suddenly, these officers started accusing me of disorderly conduct - disturbance, while we were inside the library. I said to them, \"This is the way I talk and I am not going to change it.\" (These peace officers have no idea that I have hearing problem, which is medically documented by the United States Veterans Affairs.) This is the reason why i prefer my disability to be confidential and not to disclose it. By the way, this entire conversation is video and audio recorded by me and bodycams by them. Suddenly, peace officer Piccolo circled around me and began grabbing my green bag without asking any permission at all. She said, \"I am trying to put your wallet inside your bag.\" For me, she had an intention to provoke me and make an arrest, and see what would ne my response. I said, \"Don''t touch my bag,\" while she was behind me. I decided to turn around to record a video of her actions. She finally grabbed my hands; and they arrested me. They even tried to accuse me of resisting arrest. Like I said to them, \"I am taking a video and not physically provoking them.\" Prior to the arrest, they allowed the manager to speak why they want me to leave, she said, \"I am creating disturbance.\" I said, \"What violation did I do?\" I kept asking the same question, while I am recording the entire conversation. They also asked a gentleman seating next to an old man right across me. He said, \"I am speaking loud after the peace officers arrived,\" and not before they arrived. He also had a smartphone. I did not know if the gentleman was recording the entire conversation. While he was speaking to us, I also recorded the conversation. That''s when the peace officers accused me for disturbance while the old man seating next to him, who is right across me, did not say a word or anything at all about me being a trespasser and making disturbance. After they arrested me, one of the officers put me into one of the squad cars. As I waited for them, peace officers Solano and Encarnacion began searching my greenbag if I had any weapons. And they found nothing. Ofc. Solano opened a small pocket on the front side of my green bag and found my Chicago Public Schools Employee identification card, I-PASS transponder, etc. Also, peace officers Solano and Encarnacion showed my CPS Employee ID to Ofc. Piccolo. Ofc. Piccolo went inside the car; suddenly, she asked me if I worked for CPS. I replied, \"I used to work part-time for CPS.\" Was it in a School?: No Was it in a Police Facility?: No', '', '', 'CHICAGO ILLINOIS', '', '{}', current_timestamp, current_timestamp, 'F') ON CONFLICT DO NOTHING;\nINSERT INTO data_allegation (crid, incident_date, beat_id, location, most_common_category_id, is_officer_complaint, summary, add1, add2, city, source, subjects, created_at, updated_at, is_extracted_summary) VALUES ('1089903', null, null, 'Street', 204, 'F', '', '', '', 'CHICAGO ILLINOIS', '', '{}', current_timestamp, current_timestamp, 'F') ON CONFLICT DO NOTHING;\nINSERT INTO data_allegation (crid, incident_date, beat_id, location, most_common_category_id, is_officer_complaint, summary, add1, add2, city, source, subjects, created_at, updated_at, is_extracted_summary) VALUES ('1092579', null, 44, 'Sidewalk', 99, 'T', '', '', '', 'CHICAGO ILLINOIS', '', '{}', current_timestamp, current_timestamp, 'F') ON CONFLICT DO NOTHING;\nINSERT INTO data_officerallegation (id, allegation_id, officer_id, final_finding, allegation_category_id, recc_finding, recc_outcome, final_outcome, final_outcome_class, created_at, updated_at) VALUES ((select max(id) + 1 from data_officerallegation), '20200001982', 26969, '', 75, '', '', '', '', current_timestamp, current_timestamp);\nINSERT INTO data_officerallegation (id, allegation_id, officer_id, final_finding, allegation_category_id, recc_finding, recc_outcome, final_outcome, final_outcome_class, created_at, updated_at) VALUES ((select max(id) + 1 from data_officerallegation), '20200001982', 7939, '', 75, '', '', '', '', current_timestamp, current_timestamp);\nINSERT INTO data_officerallegation (id, allegation_id, officer_id, final_finding, allegation_category_id, recc_finding, recc_outcome, final_outcome, final_outcome_class, created_at, updated_at) VALUES ((select max(id) + 1 from data_officerallegation), '20200003586', 26969, '', 81, '', '', '', '', current_timestamp, current_timestamp);\nINSERT INTO data_officerallegation (id, allegation_id, officer_id, final_finding, allegation_category_id, recc_finding, recc_outcome, final_outcome, final_outcome_class, created_at, updated_at) VALUES ((select max(id) + 1 from data_officerallegation), '20200003586', 7939, '', 81, '', '', '', '', current_timestamp, current_timestamp);\nINSERT INTO data_officerallegation (id, allegation_id, officer_id, final_finding, allegation_category_id, recc_finding, recc_outcome, final_outcome, final_outcome_class, created_at, updated_at) VALUES ((select max(id) + 1 from data_officerallegation), '1089903', 26969, 'NA', 208, '', '', '', '', current_timestamp, current_timestamp);\nINSERT INTO data_officerallegation (id, allegation_id, officer_id, final_finding, allegation_category_id, recc_finding, recc_outcome, final_outcome, final_outcome_class, created_at, updated_at) VALUES ((select max(id) + 1 from data_officerallegation), '1089903', 26969, 'NA', 208, '', '', '', '', current_timestamp, current_timestamp);\nINSERT INTO data_officerallegation (id, allegation_id, officer_id, final_finding, allegation_category_id, recc_finding, recc_outcome, final_outcome, final_outcome_class, created_at, updated_at) VALUES ((select max(id) + 1 from data_officerallegation), '1092579', 7939, 'SU', 417, '', '', '', '', current_timestamp, current_timestamp);\nINSERT INTO data_officerallegation (id, allegation_id, officer_id, final_finding, allegation_category_id, recc_finding, recc_outcome, final_outcome, final_outcome_class, created_at, updated_at) VALUES ((select max(id) + 1 from data_officerallegation), '1092579', 7939, 'SU', 417, '', '', '', '', current_timestamp, current_timestamp);\nINSERT INTO data_officerallegation (id, allegation_id, officer_id, final_finding, allegation_category_id, recc_finding, recc_outcome, final_outcome, final_outcome_class, created_at, updated_at) VALUES ((select max(id) + 1 from data_officerallegation), '1092579', 7939, 'SU', 289, '', '', '', '', current_timestamp, current_timestamp);\nINSERT INTO data_officerallegation (id, allegation_id, officer_id, final_finding, allegation_category_id, recc_finding, recc_outcome, final_outcome, final_outcome_class, created_at, updated_at) VALUES ((select max(id) + 1 from data_officerallegation), '1092579', 7939, 'SU', 289, '', '', '', '', current_timestamp, current_timestamp);\nINSERT INTO data_officerallegation (id, allegation_id, officer_id, final_finding, allegation_category_id, recc_finding, recc_outcome, final_outcome, final_outcome_class, created_at, updated_at) VALUES ((select max(id) + 1 from data_officerallegation), '1092579', 14552, 'EX', 417, '', '', '', '', current_timestamp, current_timestamp);\nINSERT INTO data_investigator (id, appointed_date, first_name, last_name, middle_initial, officer_id, suffix_name, gender, race, created_at, updated_at) VALUES (4788, '2019-09-16', 'Madilyn', 'Kohs', '', null, '', 'F', 'White', current_timestamp, current_timestamp);\nINSERT INTO data_investigator (id, appointed_date, first_name, last_name, middle_initial, officer_id, suffix_name, gender, race, created_at, updated_at) VALUES (4789, '2020-09-01', 'Valiza', 'Nash', '', null, '', 'F', 'Black', current_timestamp, current_timestamp);\nINSERT INTO data_investigatorallegation (id, current_star, current_rank, current_unit_id, investigator_id, investigator_type, created_at, updated_at, allegation_id) VALUES ((select max(id) + 1 from data_investigatorallegation), null, 'SUPERVISING INV COPA', null, 1450, 'Investigator', current_timestamp, current_timestamp, '20200001982');\nINSERT INTO data_investigatorallegation (id, current_star, current_rank, current_unit_id, investigator_id, investigator_type, created_at, updated_at, allegation_id) VALUES ((select max(id) + 1 from data_investigatorallegation), null, 'INVESTIGATOR III COPA', null, 4788, 'Investigator', current_timestamp, current_timestamp, '20200001982');\nINSERT INTO data_investigatorallegation (id, current_star, current_rank, current_unit_id, investigator_id, investigator_type, created_at, updated_at, allegation_id) VALUES ((select max(id) + 1 from data_investigatorallegation), null, 'INVESTIGATOR', null, 1421, 'Investigator', current_timestamp, current_timestamp, '20200001982');\nINSERT INTO data_investigatorallegation (id, current_star, current_rank, current_unit_id, investigator_id, investigator_type, created_at, updated_at, allegation_id) VALUES ((select max(id) + 1 from data_investigatorallegation), null, 'INVESTIGATOR 2 COPA', null, 1436, 'Investigator', current_timestamp, current_timestamp, '20200001982');\nINSERT INTO data_investigatorallegation (id, current_star, current_rank, current_unit_id, investigator_id, investigator_type, created_at, updated_at, allegation_id) VALUES ((select max(id) + 1 from data_investigatorallegation), null, 'SUPERVISING INVESTIGATOR COPA', null, 4789, 'Investigator', current_timestamp, current_timestamp, '20200001982');\nINSERT INTO data_investigatorallegation (id, current_star, current_rank, current_unit_id, investigator_id, investigator_type, created_at, updated_at, allegation_id) VALUES ((select max(id) + 1 from data_investigatorallegation), null, 'SUPERVISING INV COPA', null, 1450, 'Investigator', current_timestamp, current_timestamp, '20200003586');\nINSERT INTO data_investigatorallegation (id, current_star, current_rank, current_unit_id, investigator_id, investigator_type, created_at, updated_at, allegation_id) VALUES ((select max(id) + 1 from data_investigatorallegation), null, 'INVESTIGATOR I COPA', null, 1452, 'Investigator', current_timestamp, current_timestamp, '20200003586');\nINSERT INTO data_investigatorallegation (id, current_star, current_rank, current_unit_id, investigator_id, investigator_type, created_at, updated_at, allegation_id) VALUES ((select max(id) + 1 from data_investigatorallegation), '1552', 'SERGEANT OF POLICE', 12, 605, 'Investigator', current_timestamp, current_timestamp, '1089903');\nINSERT INTO data_investigatorallegation (id, current_star, current_rank, current_unit_id, investigator_id, investigator_type, created_at, updated_at, allegation_id) VALUES ((select max(id) + 1 from data_investigatorallegation), '275', null, 75, 1051, 'Supervising Investigator', current_timestamp, current_timestamp, '1089903');\nINSERT INTO data_investigatorallegation (id, current_star, current_rank, current_unit_id, investigator_id, investigator_type, created_at, updated_at, allegation_id) VALUES ((select max(id) + 1 from data_investigatorallegation), null, null, 71, 1418, 'Supervising Investigator', current_timestamp, current_timestamp, '1092579');\nINSERT INTO data_investigatorallegation (id, current_star, current_rank, current_unit_id, investigator_id, investigator_type, created_at, updated_at, allegation_id) VALUES ((select max(id) + 1 from data_investigatorallegation), null, null, 71, 1499, 'Investigator', current_timestamp, current_timestamp, '1092579');\nINSERT INTO data_policewitness (id, officer_id, created_at, updated_at, allegation_id)VALUES ((select max(id) + 1 from data_policewitness), 14552, current_timestamp, current_timestamp, '1092579');\nINSERT INTO data_complainant (id, gender, race, age, birth_year, created_at, updated_at, allegation_id) VALUES ((select max(id) + 1 from data_complainant), 'M', 'Black', null, 1997, current_timestamp, current_timestamp, '20200001982');\nINSERT INTO data_complainant (id, gender, race, age, birth_year, created_at, updated_at, allegation_id) VALUES ((select max(id) + 1 from data_complainant), 'M', 'White', null, 1978, current_timestamp, current_timestamp, '20200001982');\nINSERT INTO data_complainant (id, gender, race, age, birth_year, created_at, updated_at, allegation_id) VALUES ((select max(id) + 1 from data_complainant), 'M', 'Asian/Pacific Islander', null, 1987, current_timestamp, current_timestamp, '20200003586');\nINSERT INTO data_complainant (id, gender, race, age, birth_year, created_at, updated_at, allegation_id) VALUES ((select max(id) + 1 from data_complainant), '', '', null, 1966, current_timestamp, current_timestamp, '1089903');\nINSERT INTO data_complainant (id, gender, race, age, birth_year, created_at, updated_at, allegation_id) VALUES ((select max(id) + 1 from data_complainant), 'M', 'Hispanic', null, 1973, current_timestamp, current_timestamp, '1092579');\nINSERT INTO data_complainant (id, gender, race, age, birth_year, created_at, updated_at, allegation_id) VALUES ((select max(id) + 1 from data_complainant), 'F', 'White', null, null, current_timestamp, current_timestamp, '1092579');\nCOMMIT;\n"
     ]
    }
   ],
   "source": [
    "insert_new_cat_stmt = (\n",
    "    \"INSERT INTO data_allegationcategory \"\n",
    "    \"(id, category_code, category, allegation_name, on_duty, citizen_dept, created_at, updated_at) \"\n",
    "    \"VALUES (417, 'S264', 'Illegal Search', 'Improper/Illegal Investigatory Stop', 'T', '', current_timestamp, current_timestamp);\"\n",
    ")\n",
    "all_stmts = ['BEGIN;', insert_new_cat_stmt] + oh_stmts + allegation_stmts + oa_stmts + iv_stmts + pwit_stmts + com_stmts + ['COMMIT;']\n",
    "print('\\n'.join(all_stmts))"
   ]
  },
  {
   "cell_type": "code",
   "execution_count": null,
   "metadata": {},
   "outputs": [],
   "source": []
  }
 ]
}